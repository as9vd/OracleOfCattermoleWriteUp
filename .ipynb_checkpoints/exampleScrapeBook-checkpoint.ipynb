{
 "cells": [
  {
   "cell_type": "markdown",
   "id": "b52c2757-5b42-4027-958c-130ec2ac9d58",
   "metadata": {
    "tags": []
   },
   "source": [
    "## Preliminaries"
   ]
  },
  {
   "cell_type": "code",
   "execution_count": 9,
   "id": "e0259249-7d2d-4ad9-92b4-b92fab7b4772",
   "metadata": {},
   "outputs": [],
   "source": [
    "import requests\n",
    "import json\n",
    "import re\n",
    "from bs4 import BeautifulSoup\n",
    "from collections import defaultdict"
   ]
  },
  {
   "cell_type": "markdown",
   "id": "f27300d6-452d-4281-a4ac-97093f10830a",
   "metadata": {},
   "source": [
    "## Getting Links"
   ]
  },
  {
   "cell_type": "markdown",
   "id": "4f8eebc4-8833-47a7-9c08-09f04185b1d7",
   "metadata": {},
   "source": [
    "1. Get links."
   ]
  },
  {
   "cell_type": "code",
   "execution_count": 4,
   "id": "ac13aab2-7a8b-4dd4-8bb5-0ea32f49cf85",
   "metadata": {},
   "outputs": [],
   "source": [
    "base_url = \"https://wikipedia.org\"\n",
    "url = # link to page of links\n",
    "\n",
    "response = requests.get(url)\n",
    "html = response.content\n",
    "\n",
    "# rest of the code here is simply getting the links of each page of players"
   ]
  },
  {
   "cell_type": "markdown",
   "id": "5c670e20-9257-438e-8bc1-6819843cadce",
   "metadata": {},
   "source": [
    "2. Get player links."
   ]
  },
  {
   "cell_type": "code",
   "execution_count": 7,
   "id": "d8b335b9-0c5a-4acf-959c-cfbe7169f94c",
   "metadata": {},
   "outputs": [],
   "source": [
    "with open(\"Iteration12/PlayerLinks.txt\", \"a\") as f:\n",
    "    for link in urls:\n",
    "        response = requests.get(link)\n",
    "        html = response.content\n",
    "\n",
    "        soup = BeautifulSoup(html, 'html.parser')\n",
    "        \n",
    "        # rest of the code here is simply getting the links off each page and writing it to the file specified above."
   ]
  },
  {
   "cell_type": "markdown",
   "id": "e08fe30d-be49-4a9e-adce-90d8d5e36c5f",
   "metadata": {},
   "source": [
    "3. Work."
   ]
  },
  {
   "cell_type": "code",
   "execution_count": 1,
   "id": "a382415d-fa4e-4936-9494-85341acb7213",
   "metadata": {},
   "outputs": [],
   "source": [
    "with open(\"Iteration12/PlayerLinks.txt\", \"r\") as f:\n",
    "    player_lines = list([line.strip() for line in f.readlines()])"
   ]
  },
  {
   "cell_type": "code",
   "execution_count": 2,
   "id": "64a29cb5-0424-4d88-9ddd-febb72a017a8",
   "metadata": {},
   "outputs": [],
   "source": [
    "from collections import defaultdict\n",
    "import re\n",
    "\n",
    "team_dict = defaultdict(set)\n",
    "player_dict = defaultdict(set)\n",
    "player_careers = defaultdict(lambda: defaultdict(set))\n",
    "\n",
    "player_urls = player_lines\n",
    "\n",
    "damaged_urls = []\n",
    "damaged_urls = set(damaged_urls)\n",
    "skip = set()\n",
    "skip.add(\"Team\")\n",
    "\n",
    "teams = set()"
   ]
  },
  {
   "cell_type": "code",
   "execution_count": 3,
   "id": "e895715d-2afb-4a8c-a4bf-c4778df68af5",
   "metadata": {},
   "outputs": [],
   "source": [
    "with open(\"Iteration3/PlayerLinks.txt\", \"r\") as f:\n",
    "    english_links1 = list([line.strip() for line in f.readlines()])\n",
    "    \n",
    "with open(\"Iteration3/PremLinks.txt\", \"r\") as f:\n",
    "    english_links2 = list([line.strip() for line in f.readlines()])\n",
    "    \n",
    "# more links obviously, done in a for loop w/ an array, but removed to prove a point"
   ]
  },
  {
   "cell_type": "code",
   "execution_count": 4,
   "id": "6435fd76-373b-400c-83b5-95c9c381af37",
   "metadata": {},
   "outputs": [],
   "source": [
    "damaged_urls.update(english_links1)\n",
    "damaged_urls.update(english_links2)\n",
    "\n",
    "# more links yeah same thing here"
   ]
  },
  {
   "cell_type": "code",
   "execution_count": 5,
   "id": "fdd067ea-90ba-4bc4-b552-4e169aeb6e0d",
   "metadata": {},
   "outputs": [],
   "source": [
    "base_url = \"https://wikipedia.org\"\n",
    "def get_dicts_and_careers(player_urls, wiki_player_dict, start_idx, end_idx, damaged_urls = set(), teams = set(), skip = [\"team\"]):\n",
    "    team_dict = defaultdict(set)\n",
    "    player_dict = defaultdict(set)\n",
    "    player_careers = defaultdict(lambda: defaultdict(set))\n",
    "    seen = set()\n",
    "\n",
    "    i = 0\n",
    "    for player_url in player_urls[start_idx:end_idx]:\n",
    "        if i % 100 == 0:\n",
    "            print(len(player_urls[start_idx:end_idx]) - i, \"iterations remaining.\")\n",
    "        \n",
    "        response = requests.get(player_url)\n",
    "        html = response.content\n",
    "\n",
    "        soup = BeautifulSoup(html, 'html.parser')\n",
    "        table = # wiki player table\n",
    "        \n",
    "        if not table:\n",
    "            i += 1\n",
    "            continue\n",
    "        elif player_url in damaged_urls:\n",
    "            i += 1\n",
    "            continue\n",
    "        else:\n",
    "            try:                        \n",
    "                player_name = \"\";\n",
    "                for team in # table teams\n",
    "                    text = # strip \"(loan)\" and similar specifiers\n",
    "                    if text.lower() in skip:\n",
    "                        continue\n",
    "                    else:\n",
    "                        smoothened_team_text = # remove unnecessary things with re.sub().replace()\n",
    "                    \n",
    "                        teams.add(smoothened_team_text)\n",
    "                        try:\n",
    "                            # do the necessary parsing down here\n",
    "                            # took up a lot of lines!\n",
    "                            \n",
    "                            player_careers[player_name][smoothened_team_text].add(years) # Paul Pogba (multiple times for one team)\n",
    "                        except:\n",
    "                            print(player_url, \"has a difficult-to-parse vbox.\")\n",
    "                            continue\n",
    "                            \n",
    "                if player_name:\n",
    "                    seen.add(player_name)\n",
    "            except:\n",
    "                print(\"Issue with\", player_url);\n",
    "                damaged_urls.add(player_urls)\n",
    "            \n",
    "        i += 1\n",
    "        \n",
    "    return team_dict, player_dict, player_careers"
   ]
  },
  {
   "cell_type": "code",
   "execution_count": 6,
   "id": "1fe9ba7d-8b35-4ec3-9851-16504ed7906f",
   "metadata": {},
   "outputs": [],
   "source": [
    "def do_a_run(start_idx, end_idx):\n",
    "    player_wiki_dict = dict()\n",
    "    seen = set()\n",
    "    i = 0\n",
    "    print(\"1. Getting links...\")\n",
    "    for player_url in player_urls[start_idx:end_idx]:\n",
    "        if i % 100 == 0:\n",
    "            print(len(player_urls[start_idx:end_idx]) - i, \"iterations remaining.\")\n",
    "            \n",
    "        if player_url in damaged_urls:\n",
    "            i += 1\n",
    "            continue\n",
    "            \n",
    "        response = requests.get(player_url)\n",
    "        html = response.content\n",
    "\n",
    "        soup = BeautifulSoup(html, 'html.parser')\n",
    "        table = # wiki table\n",
    "    \n",
    "        try:\n",
    "            player_name = # get player's name\n",
    "            if player_name in seen:\n",
    "                i += 1\n",
    "                continue\n",
    "                \n",
    "            player_wiki_dict[player_name] = player_url\n",
    "            seen.add(player_name)\n",
    "        except:    \n",
    "            damaged_urls.add(player_url)\n",
    "        \n",
    "        i += 1\n",
    "        \n",
    "    wiki_player_dict = {v: k for k, v in player_wiki_dict.items()}\n",
    "    \n",
    "    print(\"2. Getting teams...\")\n",
    "    team_dict, player_dict, player_careers = get_dicts_and_careers(list(player_urls), wiki_player_dict, \n",
    "                                                                   start_idx, end_idx, \n",
    "                                                                   damaged_urls)\n",
    "    \n",
    "    return team_dict, player_dict, player_careers, player_wiki_dict, wiki_player_dict"
   ]
  },
  {
   "cell_type": "code",
   "execution_count": 7,
   "id": "f3e7a061-294e-42e6-8768-9ccb650c909f",
   "metadata": {},
   "outputs": [
    {
     "data": {
      "text/plain": [
       "11005"
      ]
     },
     "execution_count": 7,
     "metadata": {},
     "output_type": "execute_result"
    }
   ],
   "source": [
    "len(player_urls)"
   ]
  },
  {
   "cell_type": "markdown",
   "id": "ddfb9efd-583d-4158-8490-cea923ec545b",
   "metadata": {},
   "source": [
    "## Run 1"
   ]
  },
  {
   "cell_type": "code",
   "execution_count": 16,
   "id": "54ad9147-fd33-4306-b381-38c28720a248",
   "metadata": {},
   "outputs": [
    {
     "name": "stdout",
     "output_type": "stream",
     "text": [
      "1. Getting links...\n",
      "250 iterations remaining.\n",
      "150 iterations remaining.\n",
      "50 iterations remaining.\n",
      "2. Getting teams...\n",
      "250 iterations remaining.\n",
      "150 iterations remaining.\n",
      "50 iterations remaining.\n"
     ]
    }
   ],
   "source": [
    "team_dict, player_dict, player_careers, player_wiki_dict, wiki_player_dict = do_a_run(0, 250)"
   ]
  },
  {
   "cell_type": "code",
   "execution_count": 17,
   "id": "96f08b6c-c4d4-4020-8643-3b7283bb5fcc",
   "metadata": {},
   "outputs": [],
   "source": [
    "dict_copy = team_dict.copy()\n",
    "for key in dict_copy:\n",
    "    if isinstance(dict_copy[key], set):\n",
    "        dict_copy[key] = list(dict_copy[key])\n",
    "\n",
    "with open(\"Iteration12/0-250/TeamToURLs.json\", \"w\") as f:\n",
    "    json.dump(dict_copy, f)\n",
    "    \n",
    "dict_copy = player_dict.copy()\n",
    "for key in dict_copy:\n",
    "    if isinstance(dict_copy[key], set):\n",
    "        dict_copy[key] = list(dict_copy[key])\n",
    "\n",
    "with open(\"Iteration12/0-250/PlayerDict.json\", \"w\") as f:\n",
    "    json.dump(dict_copy, f)\n",
    "    \n",
    "with open('Iteration12/0-250/PlayerCareers.json', 'w') as f:\n",
    "    json.dump(player_careers, f, default=lambda x: dict(x) if isinstance(x, defaultdict) else list(x))\n",
    "    \n",
    "with open('Iteration12/0-250/PlayerWikiDict.json', 'w') as f:\n",
    "    json.dump(player_wiki_dict, f, default=lambda x: dict(x) if isinstance(x, defaultdict) else list(x))"
   ]
  },
  {
   "cell_type": "markdown",
   "id": "c69b30f9-28ee-476f-9414-3da492357f5f",
   "metadata": {},
   "source": [
    "## Run 2"
   ]
  },
  {
   "cell_type": "code",
   "execution_count": 10,
   "id": "d0ea7653-66fa-4bd4-b96b-95a33a832631",
   "metadata": {},
   "outputs": [
    {
     "name": "stdout",
     "output_type": "stream",
     "text": [
      "1. Getting links...\n",
      "2750 iterations remaining.\n",
      "2650 iterations remaining.\n",
      "2550 iterations remaining.\n",
      "2450 iterations remaining.\n",
      "2350 iterations remaining.\n",
      "2250 iterations remaining.\n",
      "2150 iterations remaining.\n",
      "2050 iterations remaining.\n",
      "1950 iterations remaining.\n",
      "1850 iterations remaining.\n",
      "1750 iterations remaining.\n",
      "1650 iterations remaining.\n",
      "1550 iterations remaining.\n",
      "1450 iterations remaining.\n",
      "1350 iterations remaining.\n",
      "1250 iterations remaining.\n",
      "1150 iterations remaining.\n",
      "1050 iterations remaining.\n",
      "950 iterations remaining.\n",
      "850 iterations remaining.\n",
      "750 iterations remaining.\n",
      "650 iterations remaining.\n",
      "550 iterations remaining.\n",
      "450 iterations remaining.\n",
      "350 iterations remaining.\n",
      "250 iterations remaining.\n",
      "150 iterations remaining.\n",
      "50 iterations remaining.\n",
      "2. Getting teams...\n",
      "2750 iterations remaining.\n",
      "2650 iterations remaining.\n",
      "2550 iterations remaining.\n",
      "2450 iterations remaining.\n",
      "2350 iterations remaining.\n",
      "2250 iterations remaining.\n",
      "2150 iterations remaining.\n",
      "2050 iterations remaining.\n",
      "1950 iterations remaining.\n",
      "1850 iterations remaining.\n",
      "1750 iterations remaining.\n",
      "1650 iterations remaining.\n",
      "1550 iterations remaining.\n",
      "1450 iterations remaining.\n",
      "1350 iterations remaining.\n",
      "1250 iterations remaining.\n",
      "1150 iterations remaining.\n",
      "1050 iterations remaining.\n",
      "950 iterations remaining.\n",
      "850 iterations remaining.\n",
      "750 iterations remaining.\n",
      "650 iterations remaining.\n",
      "550 iterations remaining.\n",
      "450 iterations remaining.\n",
      "350 iterations remaining.\n",
      "250 iterations remaining.\n",
      "150 iterations remaining.\n",
      "50 iterations remaining.\n"
     ]
    }
   ],
   "source": [
    "team_dict, player_dict, player_careers, player_wiki_dict, wiki_player_dict = do_a_run(250, 3000)"
   ]
  },
  {
   "cell_type": "code",
   "execution_count": 11,
   "id": "7aa4fdc1-1cc1-4ef6-9435-313971324b92",
   "metadata": {},
   "outputs": [],
   "source": [
    "dict_copy = team_dict.copy()\n",
    "for key in dict_copy:\n",
    "    if isinstance(dict_copy[key], set):\n",
    "        dict_copy[key] = list(dict_copy[key])\n",
    "\n",
    "with open(\"Iteration12/250-3000/TeamToURLs.json\", \"w\") as f:\n",
    "    json.dump(dict_copy, f)\n",
    "    \n",
    "dict_copy = player_dict.copy()\n",
    "for key in dict_copy:\n",
    "    if isinstance(dict_copy[key], set):\n",
    "        dict_copy[key] = list(dict_copy[key])\n",
    "\n",
    "with open(\"Iteration12/250-3000/PlayerDict.json\", \"w\") as f:\n",
    "    json.dump(dict_copy, f)\n",
    "    \n",
    "with open('Iteration12/250-3000/PlayerCareers.json', 'w') as f:\n",
    "    json.dump(player_careers, f, default=lambda x: dict(x) if isinstance(x, defaultdict) else list(x))\n",
    "    \n",
    "with open('Iteration12/250-3000/PlayerWikiDict.json', 'w') as f:\n",
    "    json.dump(player_wiki_dict, f, default=lambda x: dict(x) if isinstance(x, defaultdict) else list(x))"
   ]
  },
  {
   "cell_type": "markdown",
   "id": "f98625a1-201e-498e-affc-88a11c2b2984",
   "metadata": {},
   "source": [
    "## Run 3"
   ]
  },
  {
   "cell_type": "code",
   "execution_count": 12,
   "id": "994ff213-e86a-4138-aff0-dfab62ddbdce",
   "metadata": {},
   "outputs": [
    {
     "name": "stdout",
     "output_type": "stream",
     "text": [
      "1. Getting links...\n",
      "3000 iterations remaining.\n",
      "2900 iterations remaining.\n",
      "2800 iterations remaining.\n",
      "2700 iterations remaining.\n",
      "2600 iterations remaining.\n",
      "2500 iterations remaining.\n",
      "2400 iterations remaining.\n",
      "2300 iterations remaining.\n",
      "2200 iterations remaining.\n",
      "2100 iterations remaining.\n",
      "2000 iterations remaining.\n",
      "1900 iterations remaining.\n",
      "1800 iterations remaining.\n",
      "1700 iterations remaining.\n",
      "1600 iterations remaining.\n",
      "1500 iterations remaining.\n",
      "1400 iterations remaining.\n",
      "1300 iterations remaining.\n",
      "1200 iterations remaining.\n",
      "1100 iterations remaining.\n",
      "1000 iterations remaining.\n",
      "900 iterations remaining.\n",
      "800 iterations remaining.\n",
      "700 iterations remaining.\n",
      "600 iterations remaining.\n",
      "500 iterations remaining.\n",
      "400 iterations remaining.\n",
      "300 iterations remaining.\n",
      "200 iterations remaining.\n",
      "100 iterations remaining.\n",
      "2. Getting teams...\n",
      "3000 iterations remaining.\n",
      "2900 iterations remaining.\n",
      "2800 iterations remaining.\n",
      "2700 iterations remaining.\n",
      "2600 iterations remaining.\n",
      "2500 iterations remaining.\n",
      "2400 iterations remaining.\n",
      "2300 iterations remaining.\n",
      "2200 iterations remaining.\n",
      "2100 iterations remaining.\n",
      "2000 iterations remaining.\n",
      "1900 iterations remaining.\n",
      "1800 iterations remaining.\n",
      "1700 iterations remaining.\n",
      "1600 iterations remaining.\n",
      "1500 iterations remaining.\n",
      "1400 iterations remaining.\n",
      "1300 iterations remaining.\n",
      "1200 iterations remaining.\n",
      "1100 iterations remaining.\n",
      "1000 iterations remaining.\n",
      "900 iterations remaining.\n",
      "800 iterations remaining.\n",
      "700 iterations remaining.\n",
      "600 iterations remaining.\n",
      "500 iterations remaining.\n",
      "400 iterations remaining.\n",
      "300 iterations remaining.\n",
      "200 iterations remaining.\n",
      "100 iterations remaining.\n"
     ]
    }
   ],
   "source": [
    "team_dict, player_dict, player_careers, player_wiki_dict, wiki_player_dict = do_a_run(3000, 6000)"
   ]
  },
  {
   "cell_type": "code",
   "execution_count": 13,
   "id": "8b17fc33-4957-418c-b90f-978b99b2b521",
   "metadata": {},
   "outputs": [],
   "source": [
    "dict_copy = team_dict.copy()\n",
    "for key in dict_copy:\n",
    "    if isinstance(dict_copy[key], set):\n",
    "        dict_copy[key] = list(dict_copy[key])\n",
    "\n",
    "with open(\"Iteration12/3000-6000/TeamToURLs.json\", \"w\") as f:\n",
    "    json.dump(dict_copy, f)\n",
    "    \n",
    "dict_copy = player_dict.copy()\n",
    "for key in dict_copy:\n",
    "    if isinstance(dict_copy[key], set):\n",
    "        dict_copy[key] = list(dict_copy[key])\n",
    "\n",
    "with open(\"Iteration12/3000-6000/PlayerDict.json\", \"w\") as f:\n",
    "    json.dump(dict_copy, f)\n",
    "    \n",
    "with open('Iteration12/3000-6000/PlayerCareers.json', 'w') as f:\n",
    "    json.dump(player_careers, f, default=lambda x: dict(x) if isinstance(x, defaultdict) else list(x))\n",
    "    \n",
    "with open('Iteration12/3000-6000/PlayerWikiDict.json', 'w') as f:\n",
    "    json.dump(player_wiki_dict, f, default=lambda x: dict(x) if isinstance(x, defaultdict) else list(x))"
   ]
  },
  {
   "cell_type": "markdown",
   "id": "589501aa-f5a3-45a2-8121-d61d674e47e7",
   "metadata": {},
   "source": [
    "## Run 4"
   ]
  },
  {
   "cell_type": "code",
   "execution_count": 10,
   "id": "e753fea8-b631-4d8f-9e61-d5dbe191503a",
   "metadata": {},
   "outputs": [
    {
     "name": "stdout",
     "output_type": "stream",
     "text": [
      "1. Getting links...\n",
      "3000 iterations remaining.\n",
      "2900 iterations remaining.\n",
      "2800 iterations remaining.\n",
      "2700 iterations remaining.\n",
      "2600 iterations remaining.\n",
      "2500 iterations remaining.\n",
      "2400 iterations remaining.\n",
      "2300 iterations remaining.\n",
      "2200 iterations remaining.\n",
      "2100 iterations remaining.\n",
      "2000 iterations remaining.\n",
      "1900 iterations remaining.\n",
      "1800 iterations remaining.\n",
      "1700 iterations remaining.\n",
      "1600 iterations remaining.\n",
      "1500 iterations remaining.\n",
      "1400 iterations remaining.\n",
      "1300 iterations remaining.\n",
      "1200 iterations remaining.\n",
      "1100 iterations remaining.\n",
      "1000 iterations remaining.\n",
      "900 iterations remaining.\n",
      "800 iterations remaining.\n",
      "700 iterations remaining.\n",
      "600 iterations remaining.\n",
      "500 iterations remaining.\n",
      "400 iterations remaining.\n",
      "300 iterations remaining.\n",
      "200 iterations remaining.\n",
      "100 iterations remaining.\n",
      "2. Getting teams...\n",
      "3000 iterations remaining.\n",
      "2900 iterations remaining.\n",
      "2800 iterations remaining.\n",
      "2700 iterations remaining.\n",
      "2600 iterations remaining.\n",
      "2500 iterations remaining.\n",
      "2400 iterations remaining.\n",
      "2300 iterations remaining.\n",
      "2200 iterations remaining.\n",
      "2100 iterations remaining.\n",
      "2000 iterations remaining.\n",
      "1900 iterations remaining.\n",
      "1800 iterations remaining.\n",
      "1700 iterations remaining.\n",
      "1600 iterations remaining.\n",
      "1500 iterations remaining.\n",
      "1400 iterations remaining.\n",
      "1300 iterations remaining.\n",
      "1200 iterations remaining.\n",
      "1100 iterations remaining.\n",
      "1000 iterations remaining.\n",
      "900 iterations remaining.\n",
      "800 iterations remaining.\n",
      "700 iterations remaining.\n",
      "600 iterations remaining.\n",
      "500 iterations remaining.\n",
      "400 iterations remaining.\n",
      "300 iterations remaining.\n",
      "200 iterations remaining.\n",
      "100 iterations remaining.\n"
     ]
    }
   ],
   "source": [
    "team_dict, player_dict, player_careers, player_wiki_dict, wiki_player_dict = do_a_run(6000, 9000)"
   ]
  },
  {
   "cell_type": "code",
   "execution_count": 11,
   "id": "84010ee6-5bf6-4028-ad0d-34c5c5bc69a3",
   "metadata": {},
   "outputs": [],
   "source": [
    "dict_copy = team_dict.copy()\n",
    "for key in dict_copy:\n",
    "    if isinstance(dict_copy[key], set):\n",
    "        dict_copy[key] = list(dict_copy[key])\n",
    "\n",
    "with open(\"Iteration12/6000-9000/TeamToURLs.json\", \"w\") as f:\n",
    "    json.dump(dict_copy, f)\n",
    "    \n",
    "dict_copy = player_dict.copy()\n",
    "for key in dict_copy:\n",
    "    if isinstance(dict_copy[key], set):\n",
    "        dict_copy[key] = list(dict_copy[key])\n",
    "\n",
    "with open(\"Iteration12/6000-9000/PlayerDict.json\", \"w\") as f:\n",
    "    json.dump(dict_copy, f)\n",
    "    \n",
    "with open('Iteration12/6000-9000/PlayerCareers.json', 'w') as f:\n",
    "    json.dump(player_careers, f, default=lambda x: dict(x) if isinstance(x, defaultdict) else list(x))\n",
    "    \n",
    "with open('Iteration12/6000-9000/PlayerWikiDict.json', 'w') as f:\n",
    "    json.dump(player_wiki_dict, f, default=lambda x: dict(x) if isinstance(x, defaultdict) else list(x))"
   ]
  },
  {
   "cell_type": "markdown",
   "id": "a2be00bb-2537-4e15-b0da-a03d073496e9",
   "metadata": {},
   "source": [
    "## Run 5"
   ]
  },
  {
   "cell_type": "code",
   "execution_count": 12,
   "id": "78cf5fae-aeec-44bb-849b-4460cc58ff59",
   "metadata": {},
   "outputs": [
    {
     "name": "stdout",
     "output_type": "stream",
     "text": [
      "1. Getting links...\n",
      "2000 iterations remaining.\n",
      "1900 iterations remaining.\n",
      "1800 iterations remaining.\n",
      "1700 iterations remaining.\n",
      "1600 iterations remaining.\n",
      "1500 iterations remaining.\n",
      "1400 iterations remaining.\n",
      "1300 iterations remaining.\n",
      "1200 iterations remaining.\n",
      "1100 iterations remaining.\n",
      "1000 iterations remaining.\n",
      "900 iterations remaining.\n",
      "800 iterations remaining.\n",
      "700 iterations remaining.\n",
      "600 iterations remaining.\n",
      "500 iterations remaining.\n",
      "400 iterations remaining.\n",
      "300 iterations remaining.\n",
      "200 iterations remaining.\n",
      "100 iterations remaining.\n",
      "2. Getting teams...\n",
      "2000 iterations remaining.\n",
      "1900 iterations remaining.\n",
      "1800 iterations remaining.\n",
      "1700 iterations remaining.\n",
      "1600 iterations remaining.\n",
      "1500 iterations remaining.\n",
      "1400 iterations remaining.\n",
      "1300 iterations remaining.\n",
      "1200 iterations remaining.\n",
      "1100 iterations remaining.\n",
      "1000 iterations remaining.\n",
      "900 iterations remaining.\n",
      "800 iterations remaining.\n",
      "700 iterations remaining.\n",
      "600 iterations remaining.\n",
      "500 iterations remaining.\n",
      "400 iterations remaining.\n",
      "300 iterations remaining.\n",
      "200 iterations remaining.\n",
      "100 iterations remaining.\n"
     ]
    }
   ],
   "source": [
    "team_dict, player_dict, player_careers, player_wiki_dict, wiki_player_dict = do_a_run(9000, 11000)"
   ]
  },
  {
   "cell_type": "code",
   "execution_count": 14,
   "id": "2369e05a-c1ab-4b8b-a4de-8386b0ac9913",
   "metadata": {},
   "outputs": [],
   "source": [
    "dict_copy = team_dict.copy()\n",
    "for key in dict_copy:\n",
    "    if isinstance(dict_copy[key], set):\n",
    "        dict_copy[key] = list(dict_copy[key])\n",
    "\n",
    "with open(\"Iteration12/9000-11000/TeamToURLs.json\", \"w\") as f:\n",
    "    json.dump(dict_copy, f)\n",
    "    \n",
    "dict_copy = player_dict.copy()\n",
    "for key in dict_copy:\n",
    "    if isinstance(dict_copy[key], set):\n",
    "        dict_copy[key] = list(dict_copy[key])\n",
    "\n",
    "with open(\"Iteration12/9000-11000/PlayerDict.json\", \"w\") as f:\n",
    "    json.dump(dict_copy, f)\n",
    "    \n",
    "with open('Iteration12/9000-11000/PlayerCareers.json', 'w') as f:\n",
    "    json.dump(player_careers, f, default=lambda x: dict(x) if isinstance(x, defaultdict) else list(x))\n",
    "    \n",
    "with open('Iteration12/9000-11000/PlayerWikiDict.json', 'w') as f:\n",
    "    json.dump(player_wiki_dict, f, default=lambda x: dict(x) if isinstance(x, defaultdict) else list(x))"
   ]
  }
 ],
 "metadata": {
  "kernelspec": {
   "display_name": "Python 3 (ipykernel)",
   "language": "python",
   "name": "python3"
  },
  "language_info": {
   "codemirror_mode": {
    "name": "ipython",
    "version": 3
   },
   "file_extension": ".py",
   "mimetype": "text/x-python",
   "name": "python",
   "nbconvert_exporter": "python",
   "pygments_lexer": "ipython3",
   "version": "3.9.15"
  }
 },
 "nbformat": 4,
 "nbformat_minor": 5
}
